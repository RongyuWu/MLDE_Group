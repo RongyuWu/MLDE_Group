{
 "cells": [
  {
   "cell_type": "code",
   "execution_count": 1,
   "id": "3ced3d5b-2692-4015-b536-9735e5c65455",
   "metadata": {},
   "outputs": [],
   "source": [
    "import numpy as np\n",
    "import matplotlib.pyplot as plt \n",
    "import pandas as pd  \n",
    "import seaborn as sns \n",
    "\n"
   ]
  },
  {
   "cell_type": "code",
   "execution_count": 14,
   "id": "cc86e146",
   "metadata": {},
   "outputs": [
    {
     "name": "stdout",
     "output_type": "stream",
     "text": [
      "Customers.ipynb              Untitled1.ipynb\r\n",
      "IMA API 2.ipynb              Untitled2.ipynb\r\n",
      "IMA API.ipynb                customer.ipynb\r\n",
      "IMA1.ipynb                   data_county.csv\r\n",
      "IMA2.ipynb                   data_state.csv\r\n",
      "IMA3.ipynb                   location_county.csv\r\n",
      "IMA_MLDB1.ipynb              location_state.csv\r\n",
      "Products_process.ipynb 2     olist_customers_dataset.csv\r\n",
      "Untitled.ipynb               order_pd.csv\r\n"
     ]
    }
   ],
   "source": [
    "ls"
   ]
  },
  {
   "cell_type": "code",
   "execution_count": 24,
   "id": "dade02be-a0cc-48a2-bd03-9fc2e17f7971",
   "metadata": {},
   "outputs": [],
   "source": [
    "pd_reader =pd.read_csv(open(\"olist_customers_dataset.csv\"))"
   ]
  },
  {
   "cell_type": "code",
   "execution_count": 25,
   "id": "a0dec8b3-f065-4d6e-9739-86e7254613cc",
   "metadata": {},
   "outputs": [],
   "source": [
    "customer_dataset= pd_reader"
   ]
  },
  {
   "cell_type": "code",
   "execution_count": 5,
   "id": "3883b053-9b06-4205-8d25-bd0646a3fb77",
   "metadata": {},
   "outputs": [
    {
     "data": {
      "text/html": [
       "<div>\n",
       "<style scoped>\n",
       "    .dataframe tbody tr th:only-of-type {\n",
       "        vertical-align: middle;\n",
       "    }\n",
       "\n",
       "    .dataframe tbody tr th {\n",
       "        vertical-align: top;\n",
       "    }\n",
       "\n",
       "    .dataframe thead th {\n",
       "        text-align: right;\n",
       "    }\n",
       "</style>\n",
       "<table border=\"1\" class=\"dataframe\">\n",
       "  <thead>\n",
       "    <tr style=\"text-align: right;\">\n",
       "      <th></th>\n",
       "      <th>customer_id</th>\n",
       "      <th>customer_unique_id</th>\n",
       "      <th>customer_zip_code_prefix</th>\n",
       "      <th>customer_city</th>\n",
       "      <th>customer_state</th>\n",
       "    </tr>\n",
       "  </thead>\n",
       "  <tbody>\n",
       "    <tr>\n",
       "      <th>0</th>\n",
       "      <td>06b8999e2fba1a1fbc88172c00ba8bc7</td>\n",
       "      <td>861eff4711a542e4b93843c6dd7febb0</td>\n",
       "      <td>14409</td>\n",
       "      <td>franca</td>\n",
       "      <td>SP</td>\n",
       "    </tr>\n",
       "    <tr>\n",
       "      <th>1</th>\n",
       "      <td>18955e83d337fd6b2def6b18a428ac77</td>\n",
       "      <td>290c77bc529b7ac935b93aa66c333dc3</td>\n",
       "      <td>9790</td>\n",
       "      <td>sao bernardo do campo</td>\n",
       "      <td>SP</td>\n",
       "    </tr>\n",
       "    <tr>\n",
       "      <th>2</th>\n",
       "      <td>4e7b3e00288586ebd08712fdd0374a03</td>\n",
       "      <td>060e732b5b29e8181a18229c7b0b2b5e</td>\n",
       "      <td>1151</td>\n",
       "      <td>sao paulo</td>\n",
       "      <td>SP</td>\n",
       "    </tr>\n",
       "    <tr>\n",
       "      <th>3</th>\n",
       "      <td>b2b6027bc5c5109e529d4dc6358b12c3</td>\n",
       "      <td>259dac757896d24d7702b9acbbff3f3c</td>\n",
       "      <td>8775</td>\n",
       "      <td>mogi das cruzes</td>\n",
       "      <td>SP</td>\n",
       "    </tr>\n",
       "    <tr>\n",
       "      <th>4</th>\n",
       "      <td>4f2d8ab171c80ec8364f7c12e35b23ad</td>\n",
       "      <td>345ecd01c38d18a9036ed96c73b8d066</td>\n",
       "      <td>13056</td>\n",
       "      <td>campinas</td>\n",
       "      <td>SP</td>\n",
       "    </tr>\n",
       "  </tbody>\n",
       "</table>\n",
       "</div>"
      ],
      "text/plain": [
       "                        customer_id                customer_unique_id  \\\n",
       "0  06b8999e2fba1a1fbc88172c00ba8bc7  861eff4711a542e4b93843c6dd7febb0   \n",
       "1  18955e83d337fd6b2def6b18a428ac77  290c77bc529b7ac935b93aa66c333dc3   \n",
       "2  4e7b3e00288586ebd08712fdd0374a03  060e732b5b29e8181a18229c7b0b2b5e   \n",
       "3  b2b6027bc5c5109e529d4dc6358b12c3  259dac757896d24d7702b9acbbff3f3c   \n",
       "4  4f2d8ab171c80ec8364f7c12e35b23ad  345ecd01c38d18a9036ed96c73b8d066   \n",
       "\n",
       "   customer_zip_code_prefix          customer_city customer_state  \n",
       "0                     14409                 franca             SP  \n",
       "1                      9790  sao bernardo do campo             SP  \n",
       "2                      1151              sao paulo             SP  \n",
       "3                      8775        mogi das cruzes             SP  \n",
       "4                     13056               campinas             SP  "
      ]
     },
     "execution_count": 5,
     "metadata": {},
     "output_type": "execute_result"
    }
   ],
   "source": [
    "customer_dataset.head()"
   ]
  },
  {
   "cell_type": "code",
   "execution_count": 7,
   "id": "f0f7684b-6579-4f5a-8fc4-3bdd3753019c",
   "metadata": {},
   "outputs": [
    {
     "data": {
      "text/plain": [
       "Index(['customer_id', 'customer_unique_id', 'customer_zip_code_prefix',\n",
       "       'customer_city', 'customer_state'],\n",
       "      dtype='object')"
      ]
     },
     "execution_count": 7,
     "metadata": {},
     "output_type": "execute_result"
    }
   ],
   "source": [
    "customer_dataset.keys()\n",
    "## access the keys in products_dataset"
   ]
  },
  {
   "cell_type": "code",
   "execution_count": 8,
   "id": "7556a252-b84e-48df-a860-29ca4a597227",
   "metadata": {},
   "outputs": [
    {
     "name": "stdout",
     "output_type": "stream",
     "text": [
      "<class 'pandas.core.frame.DataFrame'>\n",
      "RangeIndex: 99441 entries, 0 to 99440\n",
      "Data columns (total 5 columns):\n",
      " #   Column                    Non-Null Count  Dtype \n",
      "---  ------                    --------------  ----- \n",
      " 0   customer_id               99441 non-null  object\n",
      " 1   customer_unique_id        99441 non-null  object\n",
      " 2   customer_zip_code_prefix  99441 non-null  int64 \n",
      " 3   customer_city             99441 non-null  object\n",
      " 4   customer_state            99441 non-null  object\n",
      "dtypes: int64(1), object(4)\n",
      "memory usage: 3.8+ MB\n"
     ]
    }
   ],
   "source": [
    "## access to the basic information of products_dataset\n",
    "customer_dataset.info()"
   ]
  },
  {
   "cell_type": "code",
   "execution_count": 9,
   "id": "a55b0d58-6121-4c8c-92fc-ebbc671c4658",
   "metadata": {},
   "outputs": [
    {
     "data": {
      "text/plain": [
       "customer_id                 0\n",
       "customer_unique_id          0\n",
       "customer_zip_code_prefix    0\n",
       "customer_city               0\n",
       "customer_state              0\n",
       "dtype: int64"
      ]
     },
     "execution_count": 9,
     "metadata": {},
     "output_type": "execute_result"
    }
   ],
   "source": [
    "## check null value existence \n",
    "customer_dataset.isnull().sum()"
   ]
  },
  {
   "cell_type": "markdown",
   "id": "ef135696-7778-4db9-b6d9-10d55f324b42",
   "metadata": {},
   "source": [
    " a great number of missing value, therefore we need to iterate and remove some of them"
   ]
  },
  {
   "cell_type": "code",
   "execution_count": 10,
   "id": "55e029e3-653f-4cc8-abbd-c09653b1154e",
   "metadata": {},
   "outputs": [],
   "source": [
    "customer_dataset.dropna(axis=0,how='any',inplace=True)"
   ]
  },
  {
   "cell_type": "code",
   "execution_count": 11,
   "id": "2e05f8c6-eeee-4af5-a7d9-034e4622a36a",
   "metadata": {},
   "outputs": [
    {
     "data": {
      "text/plain": [
       "customer_id                 0\n",
       "customer_unique_id          0\n",
       "customer_zip_code_prefix    0\n",
       "customer_city               0\n",
       "customer_state              0\n",
       "dtype: int64"
      ]
     },
     "execution_count": 11,
     "metadata": {},
     "output_type": "execute_result"
    }
   ],
   "source": [
    "customer_dataset.isnull().sum()"
   ]
  },
  {
   "cell_type": "markdown",
   "id": "d99a3079-56ec-4b48-b3d5-87b0dfbe7d09",
   "metadata": {},
   "source": [
    "now that we remove the collum who have missing value "
   ]
  },
  {
   "cell_type": "code",
   "execution_count": 12,
   "id": "8a6ebf05-0fa4-42a9-973e-70f57f120581",
   "metadata": {},
   "outputs": [
    {
     "name": "stdout",
     "output_type": "stream",
     "text": [
      "<class 'pandas.core.frame.DataFrame'>\n",
      "Int64Index: 99441 entries, 0 to 99440\n",
      "Data columns (total 5 columns):\n",
      " #   Column                    Non-Null Count  Dtype \n",
      "---  ------                    --------------  ----- \n",
      " 0   customer_id               99441 non-null  object\n",
      " 1   customer_unique_id        99441 non-null  object\n",
      " 2   customer_zip_code_prefix  99441 non-null  int64 \n",
      " 3   customer_city             99441 non-null  object\n",
      " 4   customer_state            99441 non-null  object\n",
      "dtypes: int64(1), object(4)\n",
      "memory usage: 4.6+ MB\n"
     ]
    }
   ],
   "source": [
    "customer_dataset.info()"
   ]
  },
  {
   "cell_type": "code",
   "execution_count": 13,
   "id": "61c1694e-ffd2-4eb3-9fd1-e9b58f44abfc",
   "metadata": {},
   "outputs": [
    {
     "data": {
      "text/plain": [
       "<AxesSubplot:>"
      ]
     },
     "execution_count": 13,
     "metadata": {},
     "output_type": "execute_result"
    },
    {
     "data": {
      "image/png": "[encoded data removed]",
      "text/plain": [
       "<Figure size 432x288 with 2 Axes>"
      ]
     },
     "metadata": {
      "needs_background": "light"
     },
     "output_type": "display_data"
    }
   ],
   "source": [
    "# create a correlation matrix rounding to one decimal point\n",
    "correlation_matrix = customer_dataset.corr().round(1)\n",
    "# print a correlation heat map\n",
    "sns.heatmap(data=correlation_matrix, annot=True)"
   ]
  },
  {
   "cell_type": "code",
   "execution_count": 15,
   "id": "ae50d79d-e792-49f2-8a32-a52d97c54018",
   "metadata": {},
   "outputs": [],
   "source": [
    "pd_reader2 =pd.read_csv(open(\"order_pd.csv\"))"
   ]
  },
  {
   "cell_type": "code",
   "execution_count": 16,
   "id": "8e10a531",
   "metadata": {},
   "outputs": [],
   "source": [
    "order_ds = pd_reader2"
   ]
  },
  {
   "cell_type": "code",
   "execution_count": 17,
   "id": "43fa6482",
   "metadata": {},
   "outputs": [
    {
     "data": {
      "text/plain": [
       "<bound method NDFrame.head of        Unnamed: 0                          order_id  \\\n",
       "0               0  e481f51cbdc54678b7cc49136f2d6af7   \n",
       "1               1  53cdb2fc8bc7dce0b6741e2150273451   \n",
       "2               2  47770eb9100c2d0c44946d9cf07ec65d   \n",
       "3               3  949d5b44dbf5de918fe9c16f97b45f8a   \n",
       "4               4  ad21c59c0840e6cb83a9ceb5573f8159   \n",
       "...           ...                               ...   \n",
       "99436       99436  9c5dedf39a927c1b2549525ed64a053c   \n",
       "99437       99437  63943bddc261676b46f01ca7ac2f7bd8   \n",
       "99438       99438  83c1379a015df1e13d02aae0204711ab   \n",
       "99439       99439  11c177c8e97725db2631073c19f07b62   \n",
       "99440       99440  66dea50a8b16d9b4dee7af250b4be1a5   \n",
       "\n",
       "                            customer_id order_purchase_timestamp  \\\n",
       "0      9ef432eb6251297304e76186b10a928d      2017-10-02 10:56:33   \n",
       "1      b0830fb4747a6c6d20dea0b8c802d7ef      2018-07-24 20:41:37   \n",
       "2      41ce2a54c0b03bf3443c3d931a367089      2018-08-08 08:38:49   \n",
       "3      f88197465ea7920adcdbec7375364d82      2017-11-18 19:28:06   \n",
       "4      8ab97904e6daea8866dbdbc4fb7aad2c      2018-02-13 21:18:39   \n",
       "...                                 ...                      ...   \n",
       "99436  39bd1228ee8140590ac3aca26f2dfe00      2017-03-09 09:54:05   \n",
       "99437  1fca14ff2861355f6e5f14306ff977a7      2018-02-06 12:58:58   \n",
       "99438  1aa71eb042121263aafbe80c1b562c9c      2017-08-27 14:46:43   \n",
       "99439  b331b74b18dc79bcdf6532d51e1637c1      2018-01-08 21:28:27   \n",
       "99440  edb027a75a1449115f6b43211ae02a24      2018-03-08 20:57:30   \n",
       "\n",
       "         order_approved_at order_delivered_carrier_date  \\\n",
       "0      2017-10-02 11:07:15          2017-10-04 19:55:00   \n",
       "1      2018-07-26 03:24:27          2018-07-26 14:31:00   \n",
       "2      2018-08-08 08:55:23          2018-08-08 13:50:00   \n",
       "3      2017-11-18 19:45:59          2017-11-22 13:39:59   \n",
       "4      2018-02-13 22:20:29          2018-02-14 19:46:34   \n",
       "...                    ...                          ...   \n",
       "99436  2017-03-09 09:54:05          2017-03-10 11:18:03   \n",
       "99437  2018-02-06 13:10:37          2018-02-07 23:22:42   \n",
       "99438  2017-08-27 15:04:16          2017-08-28 20:52:26   \n",
       "99439  2018-01-08 21:36:21          2018-01-12 15:35:03   \n",
       "99440  2018-03-09 11:20:28          2018-03-09 22:11:59   \n",
       "\n",
       "      order_delivered_customer_date order_estimated_delivery_date  \\\n",
       "0               2017-10-10 21:25:13           2017-10-18 00:00:00   \n",
       "1               2018-08-07 15:27:45           2018-08-13 00:00:00   \n",
       "2               2018-08-17 18:06:29           2018-09-04 00:00:00   \n",
       "3               2017-12-02 00:28:42           2017-12-15 00:00:00   \n",
       "4               2018-02-16 18:17:02           2018-02-26 00:00:00   \n",
       "...                             ...                           ...   \n",
       "99436           2017-03-17 15:08:01           2017-03-28 00:00:00   \n",
       "99437           2018-02-28 17:37:56           2018-03-02 00:00:00   \n",
       "99438           2017-09-21 11:24:17           2017-09-27 00:00:00   \n",
       "99439           2018-01-25 23:32:54           2018-02-15 00:00:00   \n",
       "99440           2018-03-16 13:08:30           2018-04-03 00:00:00   \n",
       "\n",
       "       status__approved  status__canceled  status__created  status__delivered  \\\n",
       "0                     0                 0                0                  1   \n",
       "1                     0                 0                0                  1   \n",
       "2                     0                 0                0                  1   \n",
       "3                     0                 0                0                  1   \n",
       "4                     0                 0                0                  1   \n",
       "...                 ...               ...              ...                ...   \n",
       "99436                 0                 0                0                  1   \n",
       "99437                 0                 0                0                  1   \n",
       "99438                 0                 0                0                  1   \n",
       "99439                 0                 0                0                  1   \n",
       "99440                 0                 0                0                  1   \n",
       "\n",
       "       status__invoiced  status__processing  status__shipped  \\\n",
       "0                     0                   0                0   \n",
       "1                     0                   0                0   \n",
       "2                     0                   0                0   \n",
       "3                     0                   0                0   \n",
       "4                     0                   0                0   \n",
       "...                 ...                 ...              ...   \n",
       "99436                 0                   0                0   \n",
       "99437                 0                   0                0   \n",
       "99438                 0                   0                0   \n",
       "99439                 0                   0                0   \n",
       "99440                 0                   0                0   \n",
       "\n",
       "       status__unavailable            period  ship_score  \n",
       "0                        0  15 days 13:03:27    0.542752  \n",
       "1                        0  19 days 03:18:23    0.720149  \n",
       "2                        0  26 days 15:21:11    0.352639  \n",
       "3                        0  26 days 04:31:54    0.504366  \n",
       "4                        0  12 days 02:41:21    0.237274  \n",
       "...                    ...               ...         ...  \n",
       "99436                    0  18 days 14:05:55    0.442127  \n",
       "99437                    0  23 days 11:01:02    0.946062  \n",
       "99438                    0  30 days 09:13:17    0.818169  \n",
       "99439                    0  37 days 02:31:33    0.460485  \n",
       "99440                    0  25 days 03:02:30    0.305424  \n",
       "\n",
       "[99441 rows x 18 columns]>"
      ]
     },
     "execution_count": 17,
     "metadata": {},
     "output_type": "execute_result"
    }
   ],
   "source": [
    "order_ds.head"
   ]
  },
  {
   "cell_type": "code",
   "execution_count": 27,
   "id": "fe732789",
   "metadata": {},
   "outputs": [
    {
     "ename": "SyntaxError",
     "evalue": "invalid syntax (4034479259.py, line 1)",
     "output_type": "error",
     "traceback": [
      "\u001b[0;36m  File \u001b[0;32m\"/var/folders/_c/xpm__r1j7rg9zcp67gwbz1hw0000gn/T/ipykernel_36780/4034479259.py\"\u001b[0;36m, line \u001b[0;32m1\u001b[0m\n\u001b[0;31m    SELECT * FROM `customer_dataset` p JOIN `order_ds` c ON ( p.customer_id = c.id );\u001b[0m\n\u001b[0m                  ^\u001b[0m\n\u001b[0;31mSyntaxError\u001b[0m\u001b[0;31m:\u001b[0m invalid syntax\n"
     ]
    }
   ],
   "source": [
    "SELECT * FROM `customer_dataset` p JOIN `order_ds` c ON ( p.customer_id = c.id );"
   ]
  },
  {
   "cell_type": "code",
   "execution_count": 29,
   "id": "4428e392",
   "metadata": {},
   "outputs": [
    {
     "data": {
      "text/html": [
       "<div>\n",
       "<style scoped>\n",
       "    .dataframe tbody tr th:only-of-type {\n",
       "        vertical-align: middle;\n",
       "    }\n",
       "\n",
       "    .dataframe tbody tr th {\n",
       "        vertical-align: top;\n",
       "    }\n",
       "\n",
       "    .dataframe thead th {\n",
       "        text-align: right;\n",
       "    }\n",
       "</style>\n",
       "<table border=\"1\" class=\"dataframe\">\n",
       "  <thead>\n",
       "    <tr style=\"text-align: right;\">\n",
       "      <th></th>\n",
       "      <th>customer_id</th>\n",
       "      <th>customer_unique_id</th>\n",
       "      <th>customer_zip_code_prefix</th>\n",
       "      <th>customer_city</th>\n",
       "      <th>customer_state</th>\n",
       "      <th>Unnamed: 0</th>\n",
       "      <th>order_id</th>\n",
       "      <th>order_purchase_timestamp</th>\n",
       "      <th>order_approved_at</th>\n",
       "      <th>order_delivered_carrier_date</th>\n",
       "      <th>...</th>\n",
       "      <th>status__approved</th>\n",
       "      <th>status__canceled</th>\n",
       "      <th>status__created</th>\n",
       "      <th>status__delivered</th>\n",
       "      <th>status__invoiced</th>\n",
       "      <th>status__processing</th>\n",
       "      <th>status__shipped</th>\n",
       "      <th>status__unavailable</th>\n",
       "      <th>period</th>\n",
       "      <th>ship_score</th>\n",
       "    </tr>\n",
       "  </thead>\n",
       "  <tbody>\n",
       "    <tr>\n",
       "      <th>0</th>\n",
       "      <td>06b8999e2fba1a1fbc88172c00ba8bc7</td>\n",
       "      <td>861eff4711a542e4b93843c6dd7febb0</td>\n",
       "      <td>14409</td>\n",
       "      <td>franca</td>\n",
       "      <td>SP</td>\n",
       "      <td>88492</td>\n",
       "      <td>00e7ee1b050b8499577073aeb2a297a1</td>\n",
       "      <td>2017-05-16 15:05:35</td>\n",
       "      <td>2017-05-16 15:22:12</td>\n",
       "      <td>2017-05-23 10:47:57</td>\n",
       "      <td>...</td>\n",
       "      <td>0</td>\n",
       "      <td>0</td>\n",
       "      <td>0</td>\n",
       "      <td>1</td>\n",
       "      <td>0</td>\n",
       "      <td>0</td>\n",
       "      <td>0</td>\n",
       "      <td>0</td>\n",
       "      <td>19 days 08:54:25</td>\n",
       "      <td>0.454930</td>\n",
       "    </tr>\n",
       "    <tr>\n",
       "      <th>1</th>\n",
       "      <td>18955e83d337fd6b2def6b18a428ac77</td>\n",
       "      <td>290c77bc529b7ac935b93aa66c333dc3</td>\n",
       "      <td>9790</td>\n",
       "      <td>sao bernardo do campo</td>\n",
       "      <td>SP</td>\n",
       "      <td>90418</td>\n",
       "      <td>29150127e6685892b6eab3eec79f59c7</td>\n",
       "      <td>2018-01-12 20:48:24</td>\n",
       "      <td>2018-01-12 20:58:32</td>\n",
       "      <td>2018-01-15 17:14:59</td>\n",
       "      <td>...</td>\n",
       "      <td>0</td>\n",
       "      <td>0</td>\n",
       "      <td>0</td>\n",
       "      <td>1</td>\n",
       "      <td>0</td>\n",
       "      <td>0</td>\n",
       "      <td>0</td>\n",
       "      <td>0</td>\n",
       "      <td>24 days 03:11:36</td>\n",
       "      <td>0.690412</td>\n",
       "    </tr>\n",
       "    <tr>\n",
       "      <th>2</th>\n",
       "      <td>4e7b3e00288586ebd08712fdd0374a03</td>\n",
       "      <td>060e732b5b29e8181a18229c7b0b2b5e</td>\n",
       "      <td>1151</td>\n",
       "      <td>sao paulo</td>\n",
       "      <td>SP</td>\n",
       "      <td>22557</td>\n",
       "      <td>b2059ed67ce144a36e2aa97d2c9e9ad2</td>\n",
       "      <td>2018-05-19 16:07:45</td>\n",
       "      <td>2018-05-20 16:19:10</td>\n",
       "      <td>2018-06-11 14:31:00</td>\n",
       "      <td>...</td>\n",
       "      <td>0</td>\n",
       "      <td>0</td>\n",
       "      <td>0</td>\n",
       "      <td>1</td>\n",
       "      <td>0</td>\n",
       "      <td>0</td>\n",
       "      <td>0</td>\n",
       "      <td>0</td>\n",
       "      <td>24 days 07:52:15</td>\n",
       "      <td>1.071901</td>\n",
       "    </tr>\n",
       "    <tr>\n",
       "      <th>3</th>\n",
       "      <td>b2b6027bc5c5109e529d4dc6358b12c3</td>\n",
       "      <td>259dac757896d24d7702b9acbbff3f3c</td>\n",
       "      <td>8775</td>\n",
       "      <td>mogi das cruzes</td>\n",
       "      <td>SP</td>\n",
       "      <td>32180</td>\n",
       "      <td>951670f92359f4fe4a63112aa7306eba</td>\n",
       "      <td>2018-03-13 16:06:38</td>\n",
       "      <td>2018-03-13 17:29:19</td>\n",
       "      <td>2018-03-27 23:22:42</td>\n",
       "      <td>...</td>\n",
       "      <td>0</td>\n",
       "      <td>0</td>\n",
       "      <td>0</td>\n",
       "      <td>1</td>\n",
       "      <td>0</td>\n",
       "      <td>0</td>\n",
       "      <td>0</td>\n",
       "      <td>0</td>\n",
       "      <td>27 days 07:53:22</td>\n",
       "      <td>0.548817</td>\n",
       "    </tr>\n",
       "    <tr>\n",
       "      <th>4</th>\n",
       "      <td>4f2d8ab171c80ec8364f7c12e35b23ad</td>\n",
       "      <td>345ecd01c38d18a9036ed96c73b8d066</td>\n",
       "      <td>13056</td>\n",
       "      <td>campinas</td>\n",
       "      <td>SP</td>\n",
       "      <td>69902</td>\n",
       "      <td>6b7d50bd145f6fc7f33cebabd7e49d0f</td>\n",
       "      <td>2018-07-29 09:51:30</td>\n",
       "      <td>2018-07-29 10:10:09</td>\n",
       "      <td>2018-07-30 15:16:00</td>\n",
       "      <td>...</td>\n",
       "      <td>0</td>\n",
       "      <td>0</td>\n",
       "      <td>0</td>\n",
       "      <td>1</td>\n",
       "      <td>0</td>\n",
       "      <td>0</td>\n",
       "      <td>0</td>\n",
       "      <td>0</td>\n",
       "      <td>16 days 14:08:30</td>\n",
       "      <td>0.690889</td>\n",
       "    </tr>\n",
       "    <tr>\n",
       "      <th>...</th>\n",
       "      <td>...</td>\n",
       "      <td>...</td>\n",
       "      <td>...</td>\n",
       "      <td>...</td>\n",
       "      <td>...</td>\n",
       "      <td>...</td>\n",
       "      <td>...</td>\n",
       "      <td>...</td>\n",
       "      <td>...</td>\n",
       "      <td>...</td>\n",
       "      <td>...</td>\n",
       "      <td>...</td>\n",
       "      <td>...</td>\n",
       "      <td>...</td>\n",
       "      <td>...</td>\n",
       "      <td>...</td>\n",
       "      <td>...</td>\n",
       "      <td>...</td>\n",
       "      <td>...</td>\n",
       "      <td>...</td>\n",
       "      <td>...</td>\n",
       "    </tr>\n",
       "    <tr>\n",
       "      <th>99436</th>\n",
       "      <td>17ddf5dd5d51696bb3d7c6291687be6f</td>\n",
       "      <td>1a29b476fee25c95fbafc67c5ac95cf8</td>\n",
       "      <td>3937</td>\n",
       "      <td>sao paulo</td>\n",
       "      <td>SP</td>\n",
       "      <td>1822</td>\n",
       "      <td>6760e20addcf0121e9d58f2f1ff14298</td>\n",
       "      <td>2018-04-07 15:48:17</td>\n",
       "      <td>2018-04-07 16:08:45</td>\n",
       "      <td>2018-04-11 02:08:36</td>\n",
       "      <td>...</td>\n",
       "      <td>0</td>\n",
       "      <td>0</td>\n",
       "      <td>0</td>\n",
       "      <td>1</td>\n",
       "      <td>0</td>\n",
       "      <td>0</td>\n",
       "      <td>0</td>\n",
       "      <td>0</td>\n",
       "      <td>17 days 08:11:43</td>\n",
       "      <td>0.356336</td>\n",
       "    </tr>\n",
       "    <tr>\n",
       "      <th>99437</th>\n",
       "      <td>e7b71a9017aa05c9a7fd292d714858e8</td>\n",
       "      <td>d52a67c98be1cf6a5c84435bd38d095d</td>\n",
       "      <td>6764</td>\n",
       "      <td>taboao da serra</td>\n",
       "      <td>SP</td>\n",
       "      <td>16146</td>\n",
       "      <td>9ec0c8947d973db4f4e8dcf1fbfa8f1b</td>\n",
       "      <td>2018-04-04 08:20:22</td>\n",
       "      <td>2018-04-04 08:35:12</td>\n",
       "      <td>2018-04-05 18:42:35</td>\n",
       "      <td>...</td>\n",
       "      <td>0</td>\n",
       "      <td>0</td>\n",
       "      <td>0</td>\n",
       "      <td>1</td>\n",
       "      <td>0</td>\n",
       "      <td>0</td>\n",
       "      <td>0</td>\n",
       "      <td>0</td>\n",
       "      <td>15 days 15:39:38</td>\n",
       "      <td>0.475357</td>\n",
       "    </tr>\n",
       "    <tr>\n",
       "      <th>99438</th>\n",
       "      <td>5e28dfe12db7fb50a4b2f691faecea5e</td>\n",
       "      <td>e9f50caf99f032f0bf3c55141f019d99</td>\n",
       "      <td>60115</td>\n",
       "      <td>fortaleza</td>\n",
       "      <td>CE</td>\n",
       "      <td>70778</td>\n",
       "      <td>fed4434add09a6f332ea398efd656a5c</td>\n",
       "      <td>2018-04-08 20:11:50</td>\n",
       "      <td>2018-04-08 20:30:03</td>\n",
       "      <td>2018-04-09 17:52:17</td>\n",
       "      <td>...</td>\n",
       "      <td>0</td>\n",
       "      <td>0</td>\n",
       "      <td>0</td>\n",
       "      <td>1</td>\n",
       "      <td>0</td>\n",
       "      <td>0</td>\n",
       "      <td>0</td>\n",
       "      <td>0</td>\n",
       "      <td>23 days 03:48:10</td>\n",
       "      <td>1.336548</td>\n",
       "    </tr>\n",
       "    <tr>\n",
       "      <th>99439</th>\n",
       "      <td>56b18e2166679b8a959d72dd06da27f9</td>\n",
       "      <td>73c2643a0a458b49f58cea58833b192e</td>\n",
       "      <td>92120</td>\n",
       "      <td>canoas</td>\n",
       "      <td>RS</td>\n",
       "      <td>30836</td>\n",
       "      <td>e31ec91cea1ecf97797787471f98a8c2</td>\n",
       "      <td>2017-11-03 21:08:33</td>\n",
       "      <td>2017-11-03 21:31:20</td>\n",
       "      <td>2017-11-06 18:24:41</td>\n",
       "      <td>...</td>\n",
       "      <td>0</td>\n",
       "      <td>0</td>\n",
       "      <td>0</td>\n",
       "      <td>1</td>\n",
       "      <td>0</td>\n",
       "      <td>0</td>\n",
       "      <td>0</td>\n",
       "      <td>0</td>\n",
       "      <td>31 days 02:51:27</td>\n",
       "      <td>0.416191</td>\n",
       "    </tr>\n",
       "    <tr>\n",
       "      <th>99440</th>\n",
       "      <td>274fa6071e5e17fe303b9748641082c8</td>\n",
       "      <td>84732c5050c01db9b23e19ba39899398</td>\n",
       "      <td>6703</td>\n",
       "      <td>cotia</td>\n",
       "      <td>SP</td>\n",
       "      <td>96137</td>\n",
       "      <td>28db69209a75e59f20ccbb5c36a20b90</td>\n",
       "      <td>2017-12-19 14:27:23</td>\n",
       "      <td>2017-12-19 18:50:39</td>\n",
       "      <td>2017-12-21 19:17:21</td>\n",
       "      <td>...</td>\n",
       "      <td>0</td>\n",
       "      <td>0</td>\n",
       "      <td>0</td>\n",
       "      <td>1</td>\n",
       "      <td>0</td>\n",
       "      <td>0</td>\n",
       "      <td>0</td>\n",
       "      <td>0</td>\n",
       "      <td>19 days 09:32:37</td>\n",
       "      <td>0.370005</td>\n",
       "    </tr>\n",
       "  </tbody>\n",
       "</table>\n",
       "<p>99441 rows × 22 columns</p>\n",
       "</div>"
      ],
      "text/plain": [
       "                            customer_id                customer_unique_id  \\\n",
       "0      06b8999e2fba1a1fbc88172c00ba8bc7  861eff4711a542e4b93843c6dd7febb0   \n",
       "1      18955e83d337fd6b2def6b18a428ac77  290c77bc529b7ac935b93aa66c333dc3   \n",
       "2      4e7b3e00288586ebd08712fdd0374a03  060e732b5b29e8181a18229c7b0b2b5e   \n",
       "3      b2b6027bc5c5109e529d4dc6358b12c3  259dac757896d24d7702b9acbbff3f3c   \n",
       "4      4f2d8ab171c80ec8364f7c12e35b23ad  345ecd01c38d18a9036ed96c73b8d066   \n",
       "...                                 ...                               ...   \n",
       "99436  17ddf5dd5d51696bb3d7c6291687be6f  1a29b476fee25c95fbafc67c5ac95cf8   \n",
       "99437  e7b71a9017aa05c9a7fd292d714858e8  d52a67c98be1cf6a5c84435bd38d095d   \n",
       "99438  5e28dfe12db7fb50a4b2f691faecea5e  e9f50caf99f032f0bf3c55141f019d99   \n",
       "99439  56b18e2166679b8a959d72dd06da27f9  73c2643a0a458b49f58cea58833b192e   \n",
       "99440  274fa6071e5e17fe303b9748641082c8  84732c5050c01db9b23e19ba39899398   \n",
       "\n",
       "       customer_zip_code_prefix          customer_city customer_state  \\\n",
       "0                         14409                 franca             SP   \n",
       "1                          9790  sao bernardo do campo             SP   \n",
       "2                          1151              sao paulo             SP   \n",
       "3                          8775        mogi das cruzes             SP   \n",
       "4                         13056               campinas             SP   \n",
       "...                         ...                    ...            ...   \n",
       "99436                      3937              sao paulo             SP   \n",
       "99437                      6764        taboao da serra             SP   \n",
       "99438                     60115              fortaleza             CE   \n",
       "99439                     92120                 canoas             RS   \n",
       "99440                      6703                  cotia             SP   \n",
       "\n",
       "       Unnamed: 0                          order_id order_purchase_timestamp  \\\n",
       "0           88492  00e7ee1b050b8499577073aeb2a297a1      2017-05-16 15:05:35   \n",
       "1           90418  29150127e6685892b6eab3eec79f59c7      2018-01-12 20:48:24   \n",
       "2           22557  b2059ed67ce144a36e2aa97d2c9e9ad2      2018-05-19 16:07:45   \n",
       "3           32180  951670f92359f4fe4a63112aa7306eba      2018-03-13 16:06:38   \n",
       "4           69902  6b7d50bd145f6fc7f33cebabd7e49d0f      2018-07-29 09:51:30   \n",
       "...           ...                               ...                      ...   \n",
       "99436        1822  6760e20addcf0121e9d58f2f1ff14298      2018-04-07 15:48:17   \n",
       "99437       16146  9ec0c8947d973db4f4e8dcf1fbfa8f1b      2018-04-04 08:20:22   \n",
       "99438       70778  fed4434add09a6f332ea398efd656a5c      2018-04-08 20:11:50   \n",
       "99439       30836  e31ec91cea1ecf97797787471f98a8c2      2017-11-03 21:08:33   \n",
       "99440       96137  28db69209a75e59f20ccbb5c36a20b90      2017-12-19 14:27:23   \n",
       "\n",
       "         order_approved_at order_delivered_carrier_date  ... status__approved  \\\n",
       "0      2017-05-16 15:22:12          2017-05-23 10:47:57  ...                0   \n",
       "1      2018-01-12 20:58:32          2018-01-15 17:14:59  ...                0   \n",
       "2      2018-05-20 16:19:10          2018-06-11 14:31:00  ...                0   \n",
       "3      2018-03-13 17:29:19          2018-03-27 23:22:42  ...                0   \n",
       "4      2018-07-29 10:10:09          2018-07-30 15:16:00  ...                0   \n",
       "...                    ...                          ...  ...              ...   \n",
       "99436  2018-04-07 16:08:45          2018-04-11 02:08:36  ...                0   \n",
       "99437  2018-04-04 08:35:12          2018-04-05 18:42:35  ...                0   \n",
       "99438  2018-04-08 20:30:03          2018-04-09 17:52:17  ...                0   \n",
       "99439  2017-11-03 21:31:20          2017-11-06 18:24:41  ...                0   \n",
       "99440  2017-12-19 18:50:39          2017-12-21 19:17:21  ...                0   \n",
       "\n",
       "      status__canceled  status__created  status__delivered  status__invoiced  \\\n",
       "0                    0                0                  1                 0   \n",
       "1                    0                0                  1                 0   \n",
       "2                    0                0                  1                 0   \n",
       "3                    0                0                  1                 0   \n",
       "4                    0                0                  1                 0   \n",
       "...                ...              ...                ...               ...   \n",
       "99436                0                0                  1                 0   \n",
       "99437                0                0                  1                 0   \n",
       "99438                0                0                  1                 0   \n",
       "99439                0                0                  1                 0   \n",
       "99440                0                0                  1                 0   \n",
       "\n",
       "       status__processing  status__shipped  status__unavailable  \\\n",
       "0                       0                0                    0   \n",
       "1                       0                0                    0   \n",
       "2                       0                0                    0   \n",
       "3                       0                0                    0   \n",
       "4                       0                0                    0   \n",
       "...                   ...              ...                  ...   \n",
       "99436                   0                0                    0   \n",
       "99437                   0                0                    0   \n",
       "99438                   0                0                    0   \n",
       "99439                   0                0                    0   \n",
       "99440                   0                0                    0   \n",
       "\n",
       "                 period  ship_score  \n",
       "0      19 days 08:54:25    0.454930  \n",
       "1      24 days 03:11:36    0.690412  \n",
       "2      24 days 07:52:15    1.071901  \n",
       "3      27 days 07:53:22    0.548817  \n",
       "4      16 days 14:08:30    0.690889  \n",
       "...                 ...         ...  \n",
       "99436  17 days 08:11:43    0.356336  \n",
       "99437  15 days 15:39:38    0.475357  \n",
       "99438  23 days 03:48:10    1.336548  \n",
       "99439  31 days 02:51:27    0.416191  \n",
       "99440  19 days 09:32:37    0.370005  \n",
       "\n",
       "[99441 rows x 22 columns]"
      ]
     },
     "execution_count": 29,
     "metadata": {},
     "output_type": "execute_result"
    }
   ],
   "source": [
    "customers_order2 = pd.merge(customer_dataset, order_ds,how='left')\n",
    "customers_order2"
   ]
  },
  {
   "cell_type": "code",
   "execution_count": 30,
   "id": "d8bce5f1",
   "metadata": {},
   "outputs": [],
   "source": [
    "customers_order2.to_csv('customer_order.csv')"
   ]
  },
  {
   "cell_type": "code",
   "execution_count": 37,
   "id": "ee58795e",
   "metadata": {},
   "outputs": [
    {
     "ename": "ModuleNotFoundError",
     "evalue": "No module named 'git'",
     "output_type": "error",
     "traceback": [
      "\u001b[0;31m---------------------------------------------------------------------------\u001b[0m",
      "\u001b[0;31mModuleNotFoundError\u001b[0m                       Traceback (most recent call last)",
      "\u001b[0;32m/var/folders/_c/xpm__r1j7rg9zcp67gwbz1hw0000gn/T/ipykernel_36780/2133793083.py\u001b[0m in \u001b[0;36m<module>\u001b[0;34m\u001b[0m\n\u001b[0;32m----> 1\u001b[0;31m \u001b[0;32mimport\u001b[0m \u001b[0mgit\u001b[0m\u001b[0;34m\u001b[0m\u001b[0;34m\u001b[0m\u001b[0m\n\u001b[0m",
      "\u001b[0;31mModuleNotFoundError\u001b[0m: No module named 'git'"
     ]
    }
   ],
   "source": [
    "import git"
   ]
  },
  {
   "cell_type": "code",
   "execution_count": 32,
   "id": "8b60a2e0",
   "metadata": {},
   "outputs": [
    {
     "ename": "ModuleNotFoundError",
     "evalue": "No module named 'git'",
     "output_type": "error",
     "traceback": [
      "\u001b[0;31m---------------------------------------------------------------------------\u001b[0m",
      "\u001b[0;31mModuleNotFoundError\u001b[0m                       Traceback (most recent call last)",
      "\u001b[0;32m/var/folders/_c/xpm__r1j7rg9zcp67gwbz1hw0000gn/T/ipykernel_36780/356170546.py\u001b[0m in \u001b[0;36m<module>\u001b[0;34m\u001b[0m\n\u001b[0;32m----> 1\u001b[0;31m \u001b[0;32mfrom\u001b[0m \u001b[0mgit\u001b[0m \u001b[0;32mimport\u001b[0m \u001b[0mRepo\u001b[0m\u001b[0;34m\u001b[0m\u001b[0;34m\u001b[0m\u001b[0m\n\u001b[0m",
      "\u001b[0;31mModuleNotFoundError\u001b[0m: No module named 'git'"
     ]
    }
   ],
   "source": [
    "from git import Repo"
   ]
  },
  {
   "cell_type": "code",
   "execution_count": 34,
   "id": "5871cd77",
   "metadata": {},
   "outputs": [
    {
     "ename": "SyntaxError",
     "evalue": "invalid syntax (2638593409.py, line 1)",
     "output_type": "error",
     "traceback": [
      "\u001b[0;36m  File \u001b[0;32m\"/var/folders/_c/xpm__r1j7rg9zcp67gwbz1hw0000gn/T/ipykernel_36780/2638593409.py\"\u001b[0;36m, line \u001b[0;32m1\u001b[0m\n\u001b[0;31m    git clone https://github.com/RongyuWu/MLDE_Group.git\u001b[0m\n\u001b[0m        ^\u001b[0m\n\u001b[0;31mSyntaxError\u001b[0m\u001b[0;31m:\u001b[0m invalid syntax\n"
     ]
    }
   ],
   "source": [
    "git clone https://github.com/RongyuWu/MLDE_Group.git"
   ]
  },
  {
   "cell_type": "code",
   "execution_count": null,
   "id": "22186339",
   "metadata": {},
   "outputs": [],
   "source": []
  }
 ],
 "metadata": {
  "kernelspec": {
   "display_name": "Python 3 (ipykernel)",
   "language": "python",
   "name": "python3"
  },
  "language_info": {
   "codemirror_mode": {
    "name": "ipython",
    "version": 3
   },
   "file_extension": ".py",
   "mimetype": "text/x-python",
   "name": "python",
   "nbconvert_exporter": "python",
   "pygments_lexer": "ipython3",
   "version": "3.9.7"
  }
 },
 "nbformat": 4,
 "nbformat_minor": 5
}
